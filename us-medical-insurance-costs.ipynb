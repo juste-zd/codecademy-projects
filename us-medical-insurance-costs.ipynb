{
 "cells": [
  {
   "cell_type": "markdown",
   "metadata": {},
   "source": [
    "# U.S. Medical Insurance Costs"
   ]
  },
  {
   "cell_type": "markdown",
   "metadata": {},
   "source": [
    "Previous on-platform Codecademy's Python challenge projects on U.S. medical insurance costs treated the insurance costs as the dependent variable and other data as independent variables. Therefore, in this project I will do the same."
   ]
  },
  {
   "cell_type": "markdown",
   "metadata": {},
   "source": [
    "### Initial importing and inspection"
   ]
  },
  {
   "cell_type": "markdown",
   "metadata": {},
   "source": [
    "Import modules:"
   ]
  },
  {
   "cell_type": "code",
   "execution_count": 1,
   "metadata": {},
   "outputs": [],
   "source": [
    "import csv"
   ]
  },
  {
   "cell_type": "markdown",
   "metadata": {},
   "source": [
    "Import data:"
   ]
  },
  {
   "cell_type": "code",
   "execution_count": 2,
   "metadata": {},
   "outputs": [],
   "source": [
    "with open(\"insurance.csv\", newline=\"\") as insurance_csv:\n",
    "    insurance_data = list(csv.DictReader(insurance_csv, delimiter=\",\"))"
   ]
  },
  {
   "cell_type": "markdown",
   "metadata": {},
   "source": [
    "Briefly describe the dataset:"
   ]
  },
  {
   "cell_type": "code",
   "execution_count": 3,
   "metadata": {},
   "outputs": [
    {
     "name": "stdout",
     "output_type": "stream",
     "text": [
      "The data provided in the dataset contains these 7 variables: ('age', 'sex', 'bmi', 'children', 'smoker', 'region', 'charges')\n",
      "The total size of the sample is 1338.\n"
     ]
    }
   ],
   "source": [
    "var_list = tuple(insurance_data[0].keys())\n",
    "print(\"The data provided in the dataset contains these {} variables: {}\".format(len(var_list), var_list))\n",
    "print(\"The total size of the sample is {}.\".format(len(insurance_data)))\n",
    "del var_list"
   ]
  },
  {
   "cell_type": "markdown",
   "metadata": {},
   "source": [
    "Check how the data is formatted:"
   ]
  },
  {
   "cell_type": "code",
   "execution_count": 4,
   "metadata": {},
   "outputs": [
    {
     "name": "stdout",
     "output_type": "stream",
     "text": [
      "{'age': '19', 'sex': 'female', 'bmi': '27.9', 'children': '0', 'smoker': 'yes', 'region': 'southwest', 'charges': '16884.924'}\n",
      "{'age': '18', 'sex': 'male', 'bmi': '33.77', 'children': '1', 'smoker': 'no', 'region': 'southeast', 'charges': '1725.5523'}\n"
     ]
    }
   ],
   "source": [
    "print(insurance_data[0])\n",
    "print(insurance_data[1])"
   ]
  },
  {
   "cell_type": "markdown",
   "metadata": {},
   "source": [
    "Much of the further analysis will require working with numbers.\n",
    "Because of that, numerical data should be converted from string to int or float.\n",
    "\n",
    "Define a function to convert the numerical data:"
   ]
  },
  {
   "cell_type": "code",
   "execution_count": 5,
   "metadata": {},
   "outputs": [],
   "source": [
    "def convert_num_data_types(data_list):\n",
    "    for row in data_list:\n",
    "        row[\"age\"] = int(row[\"age\"])\n",
    "        row[\"bmi\"] = float(row[\"bmi\"])\n",
    "        row[\"children\"] = int(row[\"children\"])\n",
    "        row[\"charges\"] = float(row[\"charges\"])"
   ]
  },
  {
   "cell_type": "markdown",
   "metadata": {},
   "source": [
    "Run the function and test to see the results:"
   ]
  },
  {
   "cell_type": "code",
   "execution_count": 6,
   "metadata": {},
   "outputs": [
    {
     "name": "stdout",
     "output_type": "stream",
     "text": [
      "{'age': 19, 'sex': 'female', 'bmi': 27.9, 'children': 0, 'smoker': 'yes', 'region': 'southwest', 'charges': 16884.924}\n",
      "{'age': 18, 'sex': 'male', 'bmi': 33.77, 'children': 1, 'smoker': 'no', 'region': 'southeast', 'charges': 1725.5523}\n"
     ]
    }
   ],
   "source": [
    "convert_num_data_types(insurance_data)\n",
    "\n",
    "print(insurance_data[0])\n",
    "print(insurance_data[1])"
   ]
  },
  {
   "cell_type": "markdown",
   "metadata": {},
   "source": [
    "### Describing each variable separately"
   ]
  },
  {
   "cell_type": "markdown",
   "metadata": {},
   "source": [
    "Make a general function that takes the insurance data and the column name (dict key) of a variable and describes the variable:"
   ]
  },
  {
   "cell_type": "code",
   "execution_count": 7,
   "metadata": {},
   "outputs": [],
   "source": [
    "def describe_var(data_list, name):\n",
    "    try:\n",
    "        var_data_list = []\n",
    "        for row in data_list:\n",
    "            var_data_list.append(row[name])\n",
    "        if type(data_list[0][name]) == str:\n",
    "            print(\"'{}' is a categorical (nominal) variable.\".format(name))\n",
    "            # describe categorical variable, including how many entries there are for each category\n",
    "            category_list = set(var_data_list)\n",
    "            category_dict = {cat: 0 for cat in category_list}\n",
    "            for entry in var_data_list:\n",
    "                category_dict[entry] += 1\n",
    "            print(\"It has {} categories: {}.\".format(len(category_list), category_list))\n",
    "            print(\"Out of all data rows\", end=\"\")\n",
    "            for cat, cat_count in category_dict.items():\n",
    "                print(\", {nr} are {cat}\".format(nr=cat_count, cat=cat), end=\"\")\n",
    "            print(\".\")\n",
    "        else:\n",
    "            print(\"'{}' is a numerical variable.\".format(name))\n",
    "            # describe numerical variable, format output based on whether var_is_int\n",
    "            minimum = min(var_data_list)\n",
    "            maximum = max(var_data_list)\n",
    "            average = sum(var_data_list) / len(var_data_list)            \n",
    "            if type(data_list[0][name]) == int:\n",
    "                average = int(average)\n",
    "                print(\"It contains values ranging from {mini} to {maxi}, with an average of {avg}.\".\\\n",
    "                      format(mini=minimum ,maxi=maximum ,avg=average))\n",
    "            else:\n",
    "                print(\"It contains values ranging from {mini:,} to {maxi:,}, with an average of {avg:,.2f}.\".\\\n",
    "                      format(mini=minimum ,maxi=maximum ,avg=average))\n",
    "        print(\"\")\n",
    "    except KeyError:\n",
    "        print(\"Please provide a valid list of dicts and a dict key as arguments.\")\n",
    "        return"
   ]
  },
  {
   "cell_type": "markdown",
   "metadata": {},
   "source": [
    "Test the function:"
   ]
  },
  {
   "cell_type": "code",
   "execution_count": 8,
   "metadata": {},
   "outputs": [
    {
     "name": "stdout",
     "output_type": "stream",
     "text": [
      "'bmi' is a numerical variable.\n",
      "It contains values ranging from 15.96 to 53.13, with an average of 30.66.\n",
      "\n",
      "Please provide a valid list of dicts and a dict key as arguments.\n"
     ]
    }
   ],
   "source": [
    "describe_var(insurance_data, \"bmi\")\n",
    "describe_var(insurance_data, \"a typo\")"
   ]
  },
  {
   "cell_type": "markdown",
   "metadata": {},
   "source": [
    "Since we want to analyze all the variables, make a function that would call `describe_var()` for all the variables and call it:"
   ]
  },
  {
   "cell_type": "code",
   "execution_count": 9,
   "metadata": {
    "scrolled": false
   },
   "outputs": [
    {
     "name": "stdout",
     "output_type": "stream",
     "text": [
      "'age' is a numerical variable.\n",
      "It contains values ranging from 18 to 64, with an average of 39.\n",
      "\n",
      "'sex' is a categorical (nominal) variable.\n",
      "It has 2 categories: {'male', 'female'}.\n",
      "Out of all data rows, 676 are male, 662 are female.\n",
      "\n",
      "'bmi' is a numerical variable.\n",
      "It contains values ranging from 15.96 to 53.13, with an average of 30.66.\n",
      "\n",
      "'children' is a numerical variable.\n",
      "It contains values ranging from 0 to 5, with an average of 1.\n",
      "\n",
      "'smoker' is a categorical (nominal) variable.\n",
      "It has 2 categories: {'yes', 'no'}.\n",
      "Out of all data rows, 274 are yes, 1064 are no.\n",
      "\n",
      "'region' is a categorical (nominal) variable.\n",
      "It has 4 categories: {'northwest', 'northeast', 'southwest', 'southeast'}.\n",
      "Out of all data rows, 325 are northwest, 324 are northeast, 325 are southwest, 364 are southeast.\n",
      "\n",
      "'charges' is a numerical variable.\n",
      "It contains values ranging from 1,121.8739 to 63,770.42801, with an average of 13,270.42.\n",
      "\n"
     ]
    }
   ],
   "source": [
    "def describe_all_vars(data_list):\n",
    "    for key in data_list[0].keys():\n",
    "        describe_var(data_list, key)\n",
    "        \n",
    "describe_all_vars(insurance_data)"
   ]
  },
  {
   "cell_type": "markdown",
   "metadata": {},
   "source": [
    "### Analyzing other variables' relationships with insurance costs (`charges`)"
   ]
  },
  {
   "cell_type": "markdown",
   "metadata": {},
   "source": [
    "Make a function that calculates Pearson correlation, coefficient of determination and linear regression slope for a numerical variable:\n",
    "\n",
    "> Pearson correlation: $r_{xy} = \\frac{\\sum x y \\,-\\, \\frac{\\sum x \\sum y}{n}}{\\sqrt{(\\sum x^2 \\,-\\, \\frac{(\\sum x)^2}{n})(\\sum y^2 \\,-\\, \\frac{(\\sum y)^2}{n})}}$\n",
    "\n",
    "> Coefficient of determination is $r_{xy}^2$\n",
    "\n",
    "> Regression equasion is $y = a + bx + ε$, where $$b=\\frac{\\sum x y \\,-\\, \\frac{\\sum x \\sum y}{n}}{\\sum x^2 \\,-\\, \\frac{(\\sum x)^2}{n}}$$ <br> $$a=\\frac{\\sum y \\,-\\, b \\sum x}{n}$$"
   ]
  },
  {
   "cell_type": "code",
   "execution_count": 10,
   "metadata": {},
   "outputs": [],
   "source": [
    "def num_analysis(data_list, name):\n",
    "    # correlation:\n",
    "    sum_xy = 0\n",
    "    sum_x = 0\n",
    "    sum_x_sq = 0\n",
    "    sum_y = 0\n",
    "    sum_y_sq = 0\n",
    "    sample_size = 0\n",
    "    for row in data_list:\n",
    "        sum_xy += row[name] * row[\"charges\"]\n",
    "        sum_x += row[name]\n",
    "        sum_x_sq += row[name]**2\n",
    "        sum_y += row[\"charges\"]\n",
    "        sum_y_sq += row[\"charges\"]**2\n",
    "        sample_size += 1        \n",
    "    pearsons_r_num = (sum_xy - sum_x * sum_y / sample_size)\n",
    "    pearsons_r_denom = ((sum_x_sq - sum_x**2 / sample_size) * (sum_y_sq - sum_y**2 / sample_size))**0.5\n",
    "    pearsons_r = pearsons_r_num / pearsons_r_denom\n",
    "    pearsons_r_sq = pearsons_r**2\n",
    "    print(\"'{name}' and 'charges' have a correlation coefficient of {r:.2f} and a determination coefficient of {r_sq:.2f}.\"\\\n",
    "         .format(name=name, r=pearsons_r, r_sq=pearsons_r_sq))\n",
    "    # comment on relationship (positive/inverse) and its strength\n",
    "    if \"{:.0%}\".format(pearsons_r_sq) == \"0%\":\n",
    "        print(\"It is a very weak or nonexistent\", end=\" \")\n",
    "        # print(\"relationship.\")\n",
    "        # return pearsons_r, pearsons_r_sq, None \n",
    "        # ^ uncommenting the two lines above will change the function to not go through with\n",
    "        # linear regression when it is very likely to be statistically insignificant\n",
    "    elif pearsons_r_sq >= 0.6:\n",
    "        print(\"It is a strong\", end=\" \")\n",
    "    elif pearsons_r_sq >= 0.4:\n",
    "        print(\"It is a moderately strong\", end=\" \")\n",
    "    else:\n",
    "        print(\"It is a weak\", end=\" \")\n",
    "    if pearsons_r > 0:\n",
    "        print(\"positive relationship.\")\n",
    "    else:\n",
    "        print(\"inverse relationship.\")\n",
    "    # linear regression\n",
    "    slope_denom = (sum_x_sq - sum_x**2 / sample_size)\n",
    "    slope = pearsons_r_num / slope_denom\n",
    "    print(\"Each unit increase in {name} is associated with an average {slope:,.2f} unit\"\\\n",
    "         .format(name=name, slope=abs(slope)), end=\" \")\n",
    "    if pearsons_r > 0:\n",
    "        print(\"increase in insurance costs ('charges').\")\n",
    "    else:\n",
    "        print(\"decrease in insurance costs ('charges').\")\n",
    "    # significance\n",
    "    print(\"This linear relationship could explain {:.0%} of variance in insurance costs.\"\\\n",
    "         .format(pearsons_r_sq))\n",
    "    return pearsons_r, pearsons_r_sq, slope"
   ]
  },
  {
   "cell_type": "markdown",
   "metadata": {},
   "source": [
    "Test the function:"
   ]
  },
  {
   "cell_type": "code",
   "execution_count": 11,
   "metadata": {},
   "outputs": [
    {
     "name": "stdout",
     "output_type": "stream",
     "text": [
      "'age' and 'charges' have a correlation coefficient of 0.30 and a determination coefficient of 0.09.\n",
      "It is a weak positive relationship.\n",
      "Each unit increase in age is associated with an average 257.72 unit increase in insurance costs ('charges').\n",
      "This linear relationship could explain 9% of variance in insurance costs.\n"
     ]
    },
    {
     "data": {
      "text/plain": [
       "(0.29900819333064554, 0.0894058996788567, 257.7226186668939)"
      ]
     },
     "execution_count": 11,
     "metadata": {},
     "output_type": "execute_result"
    }
   ],
   "source": [
    "num_analysis(insurance_data, \"age\")"
   ]
  },
  {
   "cell_type": "markdown",
   "metadata": {},
   "source": [
    "Make a function that calculates average charges for each category of a categorical variable, and the % difference between lowest and highest average:"
   ]
  },
  {
   "cell_type": "code",
   "execution_count": 12,
   "metadata": {},
   "outputs": [],
   "source": [
    "def cat_analysis(data_list, name):\n",
    "    var_data_list = []\n",
    "    for row in data_list:\n",
    "        var_data_list.append(row[name])\n",
    "    category_list = set(var_data_list)\n",
    "    category_dict = {cat: [] for cat in category_list}\n",
    "    for row in data_list:\n",
    "        category_dict[row[name]].append(row[\"charges\"])\n",
    "    for (cat, charges) in category_dict.items():\n",
    "        category_dict[cat] = sum(charges) / len(charges)\n",
    "    print(\"'{name}' has {count} categories: {list}.\".format(name=name, count=len(category_list), list=category_list))\n",
    "    print(\"The average insurance costs ('charges') for each of them are:\")\n",
    "    maxi = [\"\", -1]\n",
    "    mini = [\"\", float(\"inf\")]\n",
    "    for cat, avg_charges in category_dict.items():\n",
    "        print(\"{nr:.2f} for {cat},\".format(nr=avg_charges, cat=cat), end=\" \")\n",
    "        if avg_charges > maxi[1]:\n",
    "            maxi = [cat, avg_charges]\n",
    "        if avg_charges < mini[1]:\n",
    "            mini = [cat, avg_charges]\n",
    "    print(\"with insurance costs on average {diff:.0%} higher for '{max_cat}' compared to '{min_cat}'.\"\\\n",
    "         .format(diff = maxi[1]/mini[1] - 1, max_cat=maxi[0], min_cat=mini[0]))\n",
    "    return category_dict"
   ]
  },
  {
   "cell_type": "markdown",
   "metadata": {},
   "source": [
    "Test the function:"
   ]
  },
  {
   "cell_type": "code",
   "execution_count": 13,
   "metadata": {},
   "outputs": [
    {
     "name": "stdout",
     "output_type": "stream",
     "text": [
      "'sex' has 2 categories: {'male', 'female'}.\n",
      "The average insurance costs ('charges') for each of them are:\n",
      "13956.75 for male, 12569.58 for female, with insurance costs on average 11% higher for 'male' compared to 'female'.\n"
     ]
    },
    {
     "data": {
      "text/plain": [
       "{'male': 13956.751177721886, 'female': 12569.57884383534}"
      ]
     },
     "execution_count": 13,
     "metadata": {},
     "output_type": "execute_result"
    }
   ],
   "source": [
    "cat_analysis(insurance_data, \"sex\")"
   ]
  },
  {
   "cell_type": "markdown",
   "metadata": {},
   "source": [
    "Make a general function that takes the insurance data and the column name (dict key) of a variable and analyzes the variable:"
   ]
  },
  {
   "cell_type": "code",
   "execution_count": 14,
   "metadata": {},
   "outputs": [],
   "source": [
    "def analyze_var(data_list, name):\n",
    "    try:\n",
    "        if type(data_list[0][name]) == str:\n",
    "            cat_analysis(data_list, name)\n",
    "        elif name == \"charges\":\n",
    "            print(\"'charges' is the dependent variable.\")\n",
    "        else:\n",
    "            num_analysis(data_list, name)\n",
    "        print(\"\")\n",
    "    except KeyError:\n",
    "        print(\"Please provide a valid list of dicts and a dict key as arguments.\")\n",
    "        return"
   ]
  },
  {
   "cell_type": "markdown",
   "metadata": {},
   "source": [
    "Test the function:"
   ]
  },
  {
   "cell_type": "code",
   "execution_count": 15,
   "metadata": {},
   "outputs": [
    {
     "name": "stdout",
     "output_type": "stream",
     "text": [
      "'bmi' and 'charges' have a correlation coefficient of 0.20 and a determination coefficient of 0.04.\n",
      "It is a weak positive relationship.\n",
      "Each unit increase in bmi is associated with an average 393.87 unit increase in insurance costs ('charges').\n",
      "This linear relationship could explain 4% of variance in insurance costs.\n",
      "\n",
      "'charges' is the dependent variable.\n",
      "\n"
     ]
    }
   ],
   "source": [
    "analyze_var(insurance_data, \"bmi\")\n",
    "analyze_var(insurance_data, \"charges\")"
   ]
  },
  {
   "cell_type": "markdown",
   "metadata": {},
   "source": [
    "Since we want to analyze all the variables, make a function that would call `analyze_var()` for all the variables and call it:"
   ]
  },
  {
   "cell_type": "code",
   "execution_count": 16,
   "metadata": {
    "scrolled": false
   },
   "outputs": [
    {
     "name": "stdout",
     "output_type": "stream",
     "text": [
      "'age' and 'charges' have a correlation coefficient of 0.30 and a determination coefficient of 0.09.\n",
      "It is a weak positive relationship.\n",
      "Each unit increase in age is associated with an average 257.72 unit increase in insurance costs ('charges').\n",
      "This linear relationship could explain 9% of variance in insurance costs.\n",
      "\n",
      "'sex' has 2 categories: {'male', 'female'}.\n",
      "The average insurance costs ('charges') for each of them are:\n",
      "13956.75 for male, 12569.58 for female, with insurance costs on average 11% higher for 'male' compared to 'female'.\n",
      "\n",
      "'bmi' and 'charges' have a correlation coefficient of 0.20 and a determination coefficient of 0.04.\n",
      "It is a weak positive relationship.\n",
      "Each unit increase in bmi is associated with an average 393.87 unit increase in insurance costs ('charges').\n",
      "This linear relationship could explain 4% of variance in insurance costs.\n",
      "\n",
      "'children' and 'charges' have a correlation coefficient of 0.07 and a determination coefficient of 0.00.\n",
      "It is a very weak or nonexistent positive relationship.\n",
      "Each unit increase in children is associated with an average 683.09 unit increase in insurance costs ('charges').\n",
      "This linear relationship could explain 0% of variance in insurance costs.\n",
      "\n",
      "'smoker' has 2 categories: {'yes', 'no'}.\n",
      "The average insurance costs ('charges') for each of them are:\n",
      "32050.23 for yes, 8434.27 for no, with insurance costs on average 280% higher for 'yes' compared to 'no'.\n",
      "\n",
      "'region' has 4 categories: {'northwest', 'northeast', 'southwest', 'southeast'}.\n",
      "The average insurance costs ('charges') for each of them are:\n",
      "12417.58 for northwest, 13406.38 for northeast, 12346.94 for southwest, 14735.41 for southeast, with insurance costs on average 19% higher for 'southeast' compared to 'southwest'.\n",
      "\n",
      "'charges' is the dependent variable.\n",
      "\n"
     ]
    }
   ],
   "source": [
    "def analyze_all_vars(data_list):\n",
    "    for key in data_list[0].keys():\n",
    "        analyze_var(data_list, key)\n",
    "        \n",
    "analyze_all_vars(insurance_data)"
   ]
  },
  {
   "cell_type": "code",
   "execution_count": null,
   "metadata": {},
   "outputs": [],
   "source": []
  }
 ],
 "metadata": {
  "kernelspec": {
   "display_name": "Python 3",
   "language": "python",
   "name": "python3"
  },
  "language_info": {
   "codemirror_mode": {
    "name": "ipython",
    "version": 3
   },
   "file_extension": ".py",
   "mimetype": "text/x-python",
   "name": "python",
   "nbconvert_exporter": "python",
   "pygments_lexer": "ipython3",
   "version": "3.8.8"
  }
 },
 "nbformat": 4,
 "nbformat_minor": 4
}
